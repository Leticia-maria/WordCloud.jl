{
 "cells": [
  {
   "cell_type": "code",
   "execution_count": null,
   "id": "d4013fc6",
   "metadata": {
    "tags": []
   },
   "outputs": [],
   "source": [
    "using WordCloud\n",
    "# using Pkg; Pkg.add(\"Images\")\n",
    "# using Images"
   ]
  },
  {
   "cell_type": "code",
   "execution_count": null,
   "id": "8b14f9df",
   "metadata": {},
   "outputs": [],
   "source": [
    "WordCloud.examples"
   ]
  },
  {
   "cell_type": "code",
   "execution_count": null,
   "id": "a4599dd5",
   "metadata": {},
   "outputs": [],
   "source": [
    "showexample(:alice)"
   ]
  },
  {
   "cell_type": "code",
   "execution_count": null,
   "id": "d64cc50d",
   "metadata": {},
   "outputs": [],
   "source": [
    "runexample(:alice)"
   ]
  },
  {
   "cell_type": "code",
   "execution_count": null,
   "id": "347fdaac",
   "metadata": {},
   "outputs": [],
   "source": []
  }
 ],
 "metadata": {
  "kernelspec": {
   "display_name": "Julia 1.6.0",
   "language": "julia",
   "name": "julia-1.6"
  },
  "language_info": {
   "file_extension": ".jl",
   "mimetype": "application/julia",
   "name": "julia",
   "version": "1.6.0"
  }
 },
 "nbformat": 4,
 "nbformat_minor": 5
}
